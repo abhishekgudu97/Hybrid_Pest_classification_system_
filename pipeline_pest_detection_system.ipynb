{
 "cells": [
  {
   "cell_type": "code",
   "execution_count": 1,
   "id": "1738b8e5-5020-4d9b-8659-0d4e38a6f2f6",
   "metadata": {},
   "outputs": [
    {
     "name": "stdout",
     "output_type": "stream",
     "text": [
      "Writing pest_detection_system.py\n"
     ]
    }
   ],
   "source": [
    "%%writefile pest_detection_system.py\n",
    "import os\n",
    "import numpy as np\n",
    "from tensorflow.keras.preprocessing import image\n",
    "from tensorflow.keras.models import load_model\n",
    "\n",
    "# Function to load and preprocess a single image\n",
    "def load_and_preprocess_image(image_path, target_size=(224, 224)):\n",
    "    img = image.load_img(image_path, target_size=target_size)\n",
    "    img_array = image.img_to_array(img) \n",
    "    img_array = np.expand_dims(img_array, axis=0)  # Add batch dimension\n",
    "    img_array /= 255.0  # Rescale pixel values\n",
    "    return img_array\n",
    "\n",
    "# Function to dynamically extract class labels from directory names\n",
    "def get_class_labels_from_directory(directory_path):\n",
    "    class_labels = sorted(os.listdir(directory_path))\n",
    "    return class_labels\n",
    "\n",
    "# Function to predict pest name and similar pests\n",
    "def predict_pest(image_path, model, class_labels, top_n=5):\n",
    "    img = load_and_preprocess_image(image_path)\n",
    "    prediction = model.predict(img)\n",
    "    \n",
    "    # Get the most likely class\n",
    "    predicted_class_index = np.argmax(prediction, axis=1)[0]\n",
    "    confidence = np.max(prediction)\n",
    "    predicted_pest = class_labels[predicted_class_index]\n",
    "    \n",
    "    # Exclude the main prediction from the top N similar pests\n",
    "    sorted_indices = np.argsort(prediction[0])[::-1]  # Sort predictions in descending order\n",
    "    top_n_indices = [i for i in sorted_indices if i != predicted_class_index][:top_n]\n",
    "    top_n_pests = [(class_labels[i], prediction[0][i]) for i in top_n_indices]\n",
    "    \n",
    "    # Main prediction based on confidence threshold\n",
    "    if confidence > 0.5:  # You can adjust the threshold as needed\n",
    "        print(f\"Pest is found to be: {predicted_pest} with confidence {confidence:.2f}\")\n",
    "    else:\n",
    "        print(\"Sorry, I don't recognize the species.\")\n",
    "    \n",
    "    # Display the top N similar predictions with their probabilities (excluding the predicted pest)\n",
    "    print(\"\\nTop similar pests and their probabilities:\")\n",
    "    for i, (pest_name, prob) in enumerate(top_n_pests, 1):\n",
    "        print(f\"{i}. {pest_name}: {prob * 100:.2f}% confidence\")\n",
    "\n",
    "# Main pipeline function\n",
    "def run_pest_detection():\n",
    "    model_path = r\"C:\\Users\\Abhishek\\Desktop\\github upload\\pest\\efficientnet_final_retrained_model.h5\"\n",
    "    test_directory =r'D:\\pest\\test'  # Change this to your test images directory\n",
    "\n",
    "    # Load the model\n",
    "    model = load_model(model_path)\n",
    "    \n",
    "    # Get class labels from test directory\n",
    "    class_labels = get_class_labels_from_directory(test_directory)\n",
    "\n",
    "    # Input loop for user to enter image path\n",
    "    while True:\n",
    "        image_path = input(\"Enter the path to the pest image (or type 'exit' to quit): \")\n",
    "        if image_path.lower() == 'exit':\n",
    "            print(\"Exiting the pest detection pipeline.\")\n",
    "            break\n",
    "        if not os.path.exists(image_path):\n",
    "            print(\"The provided image path does not exist. Please try again.\")\n",
    "            continue\n",
    "\n",
    "        # Run prediction\n",
    "        predict_pest(image_path, model, class_labels, top_n=5)\n",
    "\n",
    "# Run the pest detection pipeline\n",
    "if __name__ == \"__main__\":\n",
    "    run_pest_detection()\n"
   ]
  },
  {
   "cell_type": "code",
   "execution_count": null,
   "id": "1ecd70ac-7091-4a8f-b487-fe25408241d7",
   "metadata": {},
   "outputs": [],
   "source": []
  }
 ],
 "metadata": {
  "kernelspec": {
   "display_name": "Python 3 (ipykernel)",
   "language": "python",
   "name": "python3"
  },
  "language_info": {
   "codemirror_mode": {
    "name": "ipython",
    "version": 3
   },
   "file_extension": ".py",
   "mimetype": "text/x-python",
   "name": "python",
   "nbconvert_exporter": "python",
   "pygments_lexer": "ipython3",
   "version": "3.11.10"
  }
 },
 "nbformat": 4,
 "nbformat_minor": 5
}
