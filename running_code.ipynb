{
 "cells": [
  {
   "cell_type": "code",
   "execution_count": 4,
   "id": "d7ce8880-f5b3-42ab-a7d7-322e28cda94a",
   "metadata": {
    "scrolled": true
   },
   "outputs": [
    {
     "name": "stderr",
     "output_type": "stream",
     "text": [
      "WARNING:absl:Compiled the loaded model, but the compiled metrics have yet to be built. `model.compile_metrics` will be empty until you train or evaluate the model.\n"
     ]
    },
    {
     "name": "stdout",
     "output_type": "stream",
     "text": [
      "Enter the path to the pest image (or type 'exit' to quit):  C:\\Users\\Abhishek\\Desktop\\github upload\\pest\\pest_data_set\\pest\\pest\\Ampelophaga\\43921.jpg\n"
     ]
    },
    {
     "name": "stdout",
     "output_type": "stream",
     "text": [
      "\u001b[1m1/1\u001b[0m \u001b[32m━━━━━━━━━━━━━━━━━━━━\u001b[0m\u001b[37m\u001b[0m \u001b[1m5s\u001b[0m 5s/step\n",
      "Pest is found to be: Ampelophaga with confidence 0.92\n",
      "\n",
      "Top similar pests and their probabilities:\n",
      "1. aphids: 2.77% confidence\n",
      "2. Adristyrannus: 2.15% confidence\n",
      "3. flax budworm: 0.74% confidence\n",
      "4. Cicadellidae: 0.56% confidence\n",
      "5. rice leaf caterpillar: 0.39% confidence\n"
     ]
    },
    {
     "name": "stdout",
     "output_type": "stream",
     "text": [
      "Enter the path to the pest image (or type 'exit' to quit):  C:\\Users\\Abhishek\\Desktop\\github upload\\pest\\pest_data_set\\pest\\pest\\beetle\\jpg_3 - Copy (4).jpg\n"
     ]
    },
    {
     "name": "stdout",
     "output_type": "stream",
     "text": [
      "\u001b[1m1/1\u001b[0m \u001b[32m━━━━━━━━━━━━━━━━━━━━\u001b[0m\u001b[37m\u001b[0m \u001b[1m0s\u001b[0m 156ms/step\n",
      "Pest is found to be: beetle with confidence 0.95\n",
      "\n",
      "Top similar pests and their probabilities:\n",
      "1. wireworm: 1.06% confidence\n",
      "2. beet weevil: 0.89% confidence\n",
      "3. flea beetle: 0.69% confidence\n",
      "4. lytta polita: 0.49% confidence\n",
      "5. Rhytidodera bowrinii white: 0.23% confidence\n"
     ]
    },
    {
     "name": "stdout",
     "output_type": "stream",
     "text": [
      "Enter the path to the pest image (or type 'exit' to quit):  exit\n"
     ]
    },
    {
     "name": "stdout",
     "output_type": "stream",
     "text": [
      "Exiting the pest detection pipeline.\n"
     ]
    }
   ],
   "source": [
    "from pest_detection_system import  run_pest_detection\n",
    "run_pest_detection()"
   ]
  },
  {
   "cell_type": "code",
   "execution_count": 2,
   "id": "5529eaa4-01cf-4c72-bc2c-17b0c72b16cc",
   "metadata": {},
   "outputs": [
    {
     "name": "stderr",
     "output_type": "stream",
     "text": [
      "WARNING:absl:Compiled the loaded model, but the compiled metrics have yet to be built. `model.compile_metrics` will be empty until you train or evaluate the model.\n"
     ]
    },
    {
     "name": "stdout",
     "output_type": "stream",
     "text": [
      "Enter the path to the pest image (or type 'exit' to quit):  C:\\Users\\Abhishek\\Desktop\\project done\\final_pest\\rajesh_pest\\pest\\pest\\alfalfa weevil\\30293.jpg\n"
     ]
    },
    {
     "name": "stdout",
     "output_type": "stream",
     "text": [
      "\u001b[1m1/1\u001b[0m \u001b[32m━━━━━━━━━━━━━━━━━━━━\u001b[0m\u001b[37m\u001b[0m \u001b[1m5s\u001b[0m 5s/step\n",
      "Pest is found to be: alfalfa weevil with confidence 0.57\n",
      "\n",
      "Top similar pests and their probabilities:\n",
      "1. Cicadellidae: 16.90% confidence\n",
      "2. Miridae: 15.97% confidence\n",
      "3. therioaphis maculata Buckton: 3.34% confidence\n",
      "4. Viteus vitifoliae: 2.33% confidence\n",
      "5. aphids: 1.30% confidence\n"
     ]
    },
    {
     "name": "stdout",
     "output_type": "stream",
     "text": [
      "Enter the path to the pest image (or type 'exit' to quit):  C:\\Users\\Abhishek\\Desktop\\project done\\final_pest\\rajesh_pest\\pest\\pest\\alfalfa weevil\\30308.jpg\n"
     ]
    },
    {
     "name": "stdout",
     "output_type": "stream",
     "text": [
      "\u001b[1m1/1\u001b[0m \u001b[32m━━━━━━━━━━━━━━━━━━━━\u001b[0m\u001b[37m\u001b[0m \u001b[1m0s\u001b[0m 163ms/step\n",
      "Sorry, I don't recognize the species.\n",
      "\n",
      "Top similar pests and their probabilities:\n",
      "1. Prodenia litura: 9.20% confidence\n",
      "2. beet army worm: 6.74% confidence\n",
      "3. alfalfa weevil: 6.67% confidence\n",
      "4. flax budworm: 5.72% confidence\n",
      "5. asiatic rice borer: 5.15% confidence\n"
     ]
    },
    {
     "name": "stdout",
     "output_type": "stream",
     "text": [
      "Enter the path to the pest image (or type 'exit' to quit):  exit\n"
     ]
    },
    {
     "name": "stdout",
     "output_type": "stream",
     "text": [
      "Exiting the pest detection pipeline.\n"
     ]
    }
   ],
   "source": [
    "from pest_detection_system import  run_pest_detection\n",
    "run_pest_detection()"
   ]
  }
 ],
 "metadata": {
  "kernelspec": {
   "display_name": "Python 3 (ipykernel)",
   "language": "python",
   "name": "python3"
  },
  "language_info": {
   "codemirror_mode": {
    "name": "ipython",
    "version": 3
   },
   "file_extension": ".py",
   "mimetype": "text/x-python",
   "name": "python",
   "nbconvert_exporter": "python",
   "pygments_lexer": "ipython3",
   "version": "3.12.3"
  }
 },
 "nbformat": 4,
 "nbformat_minor": 5
}
